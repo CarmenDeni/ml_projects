{
 "cells": [
  {
   "cell_type": "code",
   "execution_count": null,
   "id": "ceramic-rendering",
   "metadata": {
    "ExecuteTime": {
     "start_time": "2023-09-11T17:59:37.302Z"
    }
   },
   "outputs": [],
   "source": [
    "from langchain import HuggingFacePipeline\n",
    "from langchain import PromptTemplate,  LLMChain\n",
    "from transformers import AutoTokenizer\n",
    "from transformers import AutoModelForCausalLM\n",
    "import transformers\n",
    "import os \n",
    "import torch"
   ]
  },
  {
   "cell_type": "code",
   "execution_count": null,
   "id": "economic-freedom",
   "metadata": {},
   "outputs": [],
   "source": [
    "# Check if cuda is available \n",
    "torch.cuda.is_available()"
   ]
  },
  {
   "cell_type": "markdown",
   "id": "romantic-speaking",
   "metadata": {},
   "source": [
    "# Pipeline"
   ]
  },
  {
   "cell_type": "code",
   "execution_count": null,
   "id": "equal-appearance",
   "metadata": {},
   "outputs": [],
   "source": [
    "# Define Model ID\n",
    "model_id = \"tiiuae/falcon-40b-instruct\"\n",
    "# Load Tokenizer\n",
    "tokenizer = AutoTokenizer.from_pretrained(model_id)\n",
    "# Load Model \n",
    "model = AutoModelForCausalLM.from_pretrained(model_id, cache_dir='./workspace/', \n",
    "    torch_dtype=torch.bfloat16, trust_remote_code=True, device_map=\"auto\", offload_folder=\"offload\")\n",
    "# Set PT model to inference mode\n",
    "model.eval()\n",
    "# Build HF Transformers pipeline \n",
    "pipeline = transformers.pipeline(\n",
    "    \"text-generation\", \n",
    "    model=model,\n",
    "    tokenizer=tokenizer,\n",
    "    device_map=\"auto\",\n",
    "    max_length=400,\n",
    "    do_sample=True,\n",
    "    top_k=10,\n",
    "    num_return_sequences=1,\n",
    "    eos_token_id=tokenizer.eos_token_id\n",
    ")"
   ]
  },
  {
   "cell_type": "code",
   "execution_count": null,
   "id": "experimental-gardening",
   "metadata": {},
   "outputs": [],
   "source": [
    "# Test out the pipeline\n",
    "pipeline('who is the Dalai Lama?')"
   ]
  },
  {
   "cell_type": "markdown",
   "id": "healthy-nothing",
   "metadata": {},
   "source": [
    "# Pass it to Langchain"
   ]
  },
  {
   "cell_type": "code",
   "execution_count": null,
   "id": "tropical-brooks",
   "metadata": {},
   "outputs": [],
   "source": [
    "# Setup prompt template\n",
    "template = PromptTemplate(input_variables=['input'], template='{input}') \n",
    "# Pass hugging face pipeline to langchain class\n",
    "llm = HuggingFacePipeline(pipeline=pipeline) \n",
    "# Build stacked LLM chain i.e. prompt-formatting + LLM\n",
    "chain = LLMChain(llm=llm, prompt=template)"
   ]
  },
  {
   "cell_type": "code",
   "execution_count": null,
   "id": "equal-software",
   "metadata": {},
   "outputs": [],
   "source": [
    "# Test LLMChain \n",
    "response = chain.run('who is kim kardashian?')"
   ]
  },
  {
   "cell_type": "markdown",
   "id": "mature-square",
   "metadata": {},
   "source": [
    "# Build the App"
   ]
  },
  {
   "cell_type": "code",
   "execution_count": null,
   "id": "spiritual-cycling",
   "metadata": {
    "ExecuteTime": {
     "end_time": "2023-09-11T14:33:11.695622Z",
     "start_time": "2023-09-11T14:32:41.508410Z"
    }
   },
   "outputs": [],
   "source": [
    "# Install Gradio for the UI component\n",
    "!pip install gradio"
   ]
  },
  {
   "cell_type": "code",
   "execution_count": 4,
   "id": "searching-coordinate",
   "metadata": {
    "ExecuteTime": {
     "end_time": "2023-09-11T18:00:19.309570Z",
     "start_time": "2023-09-11T18:00:17.796962Z"
    }
   },
   "outputs": [],
   "source": [
    "# Import gradio for UI\n",
    "import gradio as gr"
   ]
  },
  {
   "cell_type": "code",
   "execution_count": 8,
   "id": "nutritional-probe",
   "metadata": {
    "ExecuteTime": {
     "end_time": "2023-09-11T17:43:40.437945Z",
     "start_time": "2023-09-11T17:43:40.423519Z"
    }
   },
   "outputs": [],
   "source": [
    "chatGPT=\"The Dalai Lama is a spiritual leader and the highest-ranking monk in Tibetan Buddhism. He is believed by Tibetan Buddhists to be the reincarnation of the previous Dalai Lama and is considered a symbol of compassion, wisdom, and enlightenment.\""
   ]
  },
  {
   "cell_type": "code",
   "execution_count": 5,
   "id": "turned-lotus",
   "metadata": {
    "ExecuteTime": {
     "end_time": "2023-09-11T18:00:21.277522Z",
     "start_time": "2023-09-11T18:00:21.273858Z"
    }
   },
   "outputs": [],
   "source": [
    "# Create generate function - this will be called when a user runs the gradio app \n",
    "def generate(prompt): \n",
    "    # The prompt will get passed to the LLM Chain!\n",
    "    return chain.run(prompt)\n",
    "    #return chatGPT\n",
    "    # And will return responses "
   ]
  },
  {
   "cell_type": "code",
   "execution_count": 6,
   "id": "derived-closing",
   "metadata": {
    "ExecuteTime": {
     "end_time": "2023-09-11T18:00:21.803486Z",
     "start_time": "2023-09-11T18:00:21.800384Z"
    }
   },
   "outputs": [],
   "source": [
    "# Define a string variable to hold the title of the app\n",
    "title = '🦜🔗 Falcon-40b-Instruct'\n",
    "# Define another string variable to hold the description of the app\n",
    "description = 'This application demonstrates the use of the open-source `Falcon-40b-Instruct` LLM.'\n",
    "# pls subscribe 🙏"
   ]
  },
  {
   "cell_type": "code",
   "execution_count": 7,
   "id": "treated-vinyl",
   "metadata": {
    "ExecuteTime": {
     "end_time": "2023-09-11T18:00:36.437173Z",
     "start_time": "2023-09-11T18:00:25.479278Z"
    }
   },
   "outputs": [
    {
     "name": "stdout",
     "output_type": "stream",
     "text": [
      "Running on local URL:  http://127.0.0.1:8080\n",
      "Running on public URL: https://686f87f120ec6e2852.gradio.live\n",
      "\n",
      "This share link expires in 72 hours. For free permanent hosting and GPU upgrades, run `gradio deploy` from Terminal to deploy to Spaces (https://huggingface.co/spaces)\n"
     ]
    },
    {
     "data": {
      "text/html": [
       "<div><iframe src=\"https://686f87f120ec6e2852.gradio.live\" width=\"100%\" height=\"500\" allow=\"autoplay; camera; microphone; clipboard-read; clipboard-write;\" frameborder=\"0\" allowfullscreen></iframe></div>"
      ],
      "text/plain": [
       "<IPython.core.display.HTML object>"
      ]
     },
     "metadata": {},
     "output_type": "display_data"
    },
    {
     "data": {
      "text/plain": []
     },
     "execution_count": 7,
     "metadata": {},
     "output_type": "execute_result"
    }
   ],
   "source": [
    "# Build gradio interface, define inputs and outputs...just text in this\n",
    "gr.Interface(fn=generate, inputs=[\"text\"], outputs=[\"text\"], \n",
    "             # Pass through title and description\n",
    "             title=title, description=description, \n",
    "             # Set theme and launch parameters\n",
    "             theme='finlaymacklon/boxy_violet').launch(server_port=8080, share=True)"
   ]
  },
  {
   "cell_type": "code",
   "execution_count": null,
   "id": "tender-shuttle",
   "metadata": {},
   "outputs": [],
   "source": []
  }
 ],
 "metadata": {
  "kernelspec": {
   "display_name": "Python 3",
   "language": "python",
   "name": "python3"
  },
  "language_info": {
   "codemirror_mode": {
    "name": "ipython",
    "version": 3
   },
   "file_extension": ".py",
   "mimetype": "text/x-python",
   "name": "python",
   "nbconvert_exporter": "python",
   "pygments_lexer": "ipython3",
   "version": "3.9.1"
  },
  "toc": {
   "base_numbering": 1,
   "nav_menu": {},
   "number_sections": true,
   "sideBar": true,
   "skip_h1_title": false,
   "title_cell": "Table of Contents",
   "title_sidebar": "Contents",
   "toc_cell": false,
   "toc_position": {},
   "toc_section_display": true,
   "toc_window_display": false
  }
 },
 "nbformat": 4,
 "nbformat_minor": 5
}
