{
 "cells": [
  {
   "cell_type": "code",
   "execution_count": 1,
   "id": "specified-ocean",
   "metadata": {
    "ExecuteTime": {
     "end_time": "2023-09-09T17:23:59.341240Z",
     "start_time": "2023-09-09T17:23:58.198235Z"
    }
   },
   "outputs": [],
   "source": [
    "# Import required libraries\n",
    "import streamlit as st\n",
    "from dotenv import load_dotenv"
   ]
  },
  {
   "cell_type": "code",
   "execution_count": 2,
   "id": "convertible-fisher",
   "metadata": {
    "ExecuteTime": {
     "end_time": "2023-09-09T17:23:59.809500Z",
     "start_time": "2023-09-09T17:23:59.652728Z"
    }
   },
   "outputs": [],
   "source": [
    "from PyPDF2 import PdfReader"
   ]
  },
  {
   "cell_type": "code",
   "execution_count": null,
   "id": "protective-ideal",
   "metadata": {
    "ExecuteTime": {
     "end_time": "2023-09-09T17:24:11.049742Z",
     "start_time": "2023-09-09T17:24:05.466619Z"
    }
   },
   "outputs": [],
   "source": [
    "from langchain.text_splitter import CharacterTextSplitter\n",
    "from langchain.embeddings import OpenAIEmbeddings, HuggingFaceInstructEmbeddings\n",
    "from langchain.vectorstores import FAISS\n",
    "from langchain.chat_models import ChatOpenAI\n",
    "from langchain.memory import ConversationBufferMemory\n",
    "from langchain.chains import ConversationalRetrievalChain"
   ]
  },
  {
   "cell_type": "code",
   "execution_count": 7,
   "id": "honey-africa",
   "metadata": {
    "ExecuteTime": {
     "end_time": "2023-09-09T17:25:59.241679Z",
     "start_time": "2023-09-09T17:25:59.228412Z"
    },
    "scrolled": false
   },
   "outputs": [],
   "source": [
    "from langchain.llms import HuggingFaceHub\n",
    "from langchain.llms import OpenAI\n",
    "from langchain.chains.summarize import load_summarize_chain"
   ]
  },
  {
   "cell_type": "code",
   "execution_count": 9,
   "id": "ordinary-stock",
   "metadata": {
    "ExecuteTime": {
     "end_time": "2023-09-09T17:26:13.933354Z",
     "start_time": "2023-09-09T17:26:13.902596Z"
    }
   },
   "outputs": [
    {
     "ename": "ImportError",
     "evalue": "cannot import name 'css' from 'htmltemplate' (/Users/pollipato/opt/anaconda3/envs/papita/lib/python3.9/site-packages/htmltemplate.py)",
     "output_type": "error",
     "traceback": [
      "\u001b[0;31m---------------------------------------------------------------------------\u001b[0m",
      "\u001b[0;31mImportError\u001b[0m                               Traceback (most recent call last)",
      "\u001b[0;32m<ipython-input-9-3d0c0336f24b>\u001b[0m in \u001b[0;36m<module>\u001b[0;34m\u001b[0m\n\u001b[0;32m----> 1\u001b[0;31m \u001b[0;32mfrom\u001b[0m \u001b[0mhtmltemplate\u001b[0m \u001b[0;32mimport\u001b[0m \u001b[0mcss\u001b[0m\u001b[0;34m,\u001b[0m \u001b[0mbot_template\u001b[0m\u001b[0;34m,\u001b[0m \u001b[0muser_template\u001b[0m\u001b[0;34m\u001b[0m\u001b[0;34m\u001b[0m\u001b[0m\n\u001b[0m",
      "\u001b[0;31mImportError\u001b[0m: cannot import name 'css' from 'htmltemplate' (/Users/pollipato/opt/anaconda3/envs/papita/lib/python3.9/site-packages/htmltemplate.py)"
     ]
    }
   ],
   "source": [
    "!pip install htmltemplate"
   ]
  },
  {
   "cell_type": "markdown",
   "id": "fitted-hello",
   "metadata": {},
   "source": [
    "Extract text from PFD's"
   ]
  },
  {
   "cell_type": "code",
   "execution_count": 11,
   "id": "changed-handle",
   "metadata": {
    "ExecuteTime": {
     "end_time": "2023-09-09T18:08:22.291224Z",
     "start_time": "2023-09-09T18:08:22.285220Z"
    }
   },
   "outputs": [],
   "source": [
    "def get_pdf_text(pdf_docs):\n",
    "    text = \"\"\n",
    "    for pdf in pdf_docs:\n",
    "        pdf_reader = PdfReader(pdf)\n",
    "        for page in pdf_reader.pages:\n",
    "            text += page.extract_text()\n",
    "    return text"
   ]
  },
  {
   "cell_type": "markdown",
   "id": "thorough-marketplace",
   "metadata": {},
   "source": [
    "Split text into chunks"
   ]
  },
  {
   "cell_type": "code",
   "execution_count": 12,
   "id": "architectural-peripheral",
   "metadata": {
    "ExecuteTime": {
     "end_time": "2023-09-09T18:08:58.148550Z",
     "start_time": "2023-09-09T18:08:58.143706Z"
    }
   },
   "outputs": [],
   "source": [
    "def get_text_chunks(text):\n",
    "    text_splitter = CharacterTextSplitter(\n",
    "        separator=\"\\n\",\n",
    "        chunk_size=1000,\n",
    "        chunk_overlap=200,\n",
    "        length_function=len\n",
    "    )\n",
    "    chunks = text_splitter.split_text(text)\n",
    "    return chunks"
   ]
  },
  {
   "cell_type": "markdown",
   "id": "stunning-astrology",
   "metadata": {
    "ExecuteTime": {
     "end_time": "2023-09-09T18:10:29.010711Z",
     "start_time": "2023-09-09T18:10:28.998892Z"
    }
   },
   "source": [
    "Create embedings and save on a vector store"
   ]
  },
  {
   "cell_type": "code",
   "execution_count": 14,
   "id": "absolute-beast",
   "metadata": {
    "ExecuteTime": {
     "end_time": "2023-09-09T18:10:44.781640Z",
     "start_time": "2023-09-09T18:10:44.775729Z"
    }
   },
   "outputs": [],
   "source": [
    "def get_vectorstore(text_chunks, embedding_model):\n",
    "    if embedding_model == \"OpenAI\":\n",
    "        embeddings = OpenAIEmbeddings()\n",
    "    elif embedding_model == \"HuggingFace\":\n",
    "        embeddings = HuggingFaceInstructEmbeddings(model_name=\"hkunlp/instructor-xl\")\n",
    "    else:\n",
    "        raise ValueError(\"Invalid language model choice. Supported options: 'OpenAI' and 'HuggingFace'.\")\n",
    "\n",
    "    vectorstore = FAISS.from_texts(texts=text_chunks, embedding=embeddings)\n",
    "    return vectorstore"
   ]
  },
  {
   "cell_type": "markdown",
   "id": "golden-portable",
   "metadata": {},
   "source": [
    "Creating a conversational chain"
   ]
  },
  {
   "cell_type": "code",
   "execution_count": 15,
   "id": "guilty-canvas",
   "metadata": {
    "ExecuteTime": {
     "end_time": "2023-09-09T18:26:43.859312Z",
     "start_time": "2023-09-09T18:26:43.832835Z"
    }
   },
   "outputs": [],
   "source": [
    "def get_conversation_chain(vectorstore, conversational_model, model_temperature=0.5):\n",
    "    if conversational_model == \"OpenAI\":\n",
    "        llm = ChatOpenAI(temperature=model_temperature)\n",
    "    elif conversational_model == \"HuggingFace\":\n",
    "        llm = HuggingFaceHub(repo_id=\"google/flan-t5-xxl\", model_kwargs={\"temperature\":0.5, \"max_length\":512})\n",
    "\n",
    "    memory = ConversationBufferMemory(\n",
    "        memory_key='chat_history', return_messages=True)\n",
    "    conversation_chain = ConversationalRetrievalChain.from_llm(\n",
    "        llm=llm,\n",
    "        retriever=vectorstore.as_retriever(),\n",
    "        memory=memory,\n",
    "    )\n",
    "    return conversation_chain"
   ]
  },
  {
   "cell_type": "markdown",
   "id": "comic-catch",
   "metadata": {},
   "source": [
    "Handling user input"
   ]
  },
  {
   "cell_type": "code",
   "execution_count": 16,
   "id": "roman-conjunction",
   "metadata": {
    "ExecuteTime": {
     "end_time": "2023-09-09T18:28:19.925577Z",
     "start_time": "2023-09-09T18:28:19.912592Z"
    }
   },
   "outputs": [],
   "source": [
    "def handle_userinput(user_question):\n",
    "    response = st.session_state.conversation({'question': user_question})\n",
    "    st.session_state.chat_history = response['chat_history']\n",
    "\n",
    "    for i, message in enumerate(st.session_state.chat_history):\n",
    "        if i % 2 == 0:\n",
    "            st.write(user_template.replace(\n",
    "                \"{{MSG}}\", message.content), unsafe_allow_html=True)\n",
    "        else:\n",
    "            st.write(bot_template.replace(\n",
    "                \"{{MSG}}\", message.content), unsafe_allow_html=True)"
   ]
  },
  {
   "cell_type": "markdown",
   "id": "aggressive-employer",
   "metadata": {
    "ExecuteTime": {
     "end_time": "2023-09-09T18:28:35.861195Z",
     "start_time": "2023-09-09T18:28:35.855654Z"
    }
   },
   "source": [
    "Building the Streamlit application"
   ]
  },
  {
   "cell_type": "code",
   "execution_count": null,
   "id": "smoking-infrared",
   "metadata": {},
   "outputs": [],
   "source": [
    "def main():\n",
    "    load_dotenv()\n",
    "    st.set_page_config(page_title=\"Chat with multiple PDFs\",\n",
    "                       page_icon=\":books:\")\n",
    "    st.write(css, unsafe_allow_html=True)\n",
    "\n",
    "    if \"conversation\" not in st.session_state:\n",
    "        st.session_state.conversation = None\n",
    "    if \"chat_history\" not in st.session_state:\n",
    "        st.session_state.chat_history = None\n",
    "\n",
    "    st.header(\"Chat with multiple PDFs :books:\")\n",
    "    user_question = st.text_input(\"Ask a question about your documents:\")\n",
    "\n",
    "    # ... (omitted code for PDF upload and model selection)\n",
    "\n",
    "    if user_question:\n",
    "        handle_userinput(user_question)\n",
    "\n",
    "if __name__ == '__main__':\n",
    "    main()"
   ]
  },
  {
   "cell_type": "code",
   "execution_count": null,
   "id": "agricultural-nomination",
   "metadata": {},
   "outputs": [],
   "source": []
  },
  {
   "cell_type": "code",
   "execution_count": null,
   "id": "intermediate-hazard",
   "metadata": {},
   "outputs": [],
   "source": []
  },
  {
   "cell_type": "code",
   "execution_count": null,
   "id": "meaning-edgar",
   "metadata": {},
   "outputs": [],
   "source": []
  }
 ],
 "metadata": {
  "kernelspec": {
   "display_name": "Python 3",
   "language": "python",
   "name": "python3"
  },
  "language_info": {
   "codemirror_mode": {
    "name": "ipython",
    "version": 3
   },
   "file_extension": ".py",
   "mimetype": "text/x-python",
   "name": "python",
   "nbconvert_exporter": "python",
   "pygments_lexer": "ipython3",
   "version": "3.9.1"
  },
  "toc": {
   "base_numbering": 1,
   "nav_menu": {},
   "number_sections": true,
   "sideBar": true,
   "skip_h1_title": false,
   "title_cell": "Table of Contents",
   "title_sidebar": "Contents",
   "toc_cell": false,
   "toc_position": {},
   "toc_section_display": true,
   "toc_window_display": false
  }
 },
 "nbformat": 4,
 "nbformat_minor": 5
}
