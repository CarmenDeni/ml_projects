{
 "cells": [
  {
   "cell_type": "code",
   "execution_count": 3,
   "id": "simplified-fundamental",
   "metadata": {
    "ExecuteTime": {
     "end_time": "2023-09-09T17:11:46.368578Z",
     "start_time": "2023-09-09T17:11:43.579559Z"
    }
   },
   "outputs": [
    {
     "name": "stdout",
     "output_type": "stream",
     "text": [
      "Collecting PyPDF2\n",
      "  Downloading pypdf2-3.0.1-py3-none-any.whl (232 kB)\n",
      "\u001b[K     |████████████████████████████████| 232 kB 453 kB/s eta 0:00:01\n",
      "\u001b[?25hRequirement already satisfied: typing_extensions>=3.10.0.0 in /Users/pollipato/opt/anaconda3/envs/papita/lib/python3.9/site-packages (from PyPDF2) (4.7.1)\n",
      "Installing collected packages: PyPDF2\n",
      "Successfully installed PyPDF2-3.0.1\n"
     ]
    }
   ],
   "source": [
    "!pip install PyPDF2"
   ]
  },
  {
   "cell_type": "code",
   "execution_count": 4,
   "id": "solar-guess",
   "metadata": {
    "ExecuteTime": {
     "end_time": "2023-09-09T17:12:26.725706Z",
     "start_time": "2023-09-09T17:12:25.255056Z"
    }
   },
   "outputs": [
    {
     "name": "stdout",
     "output_type": "stream",
     "text": [
      "Requirement already satisfied: streamlit in /Users/pollipato/opt/anaconda3/envs/papita/lib/python3.9/site-packages (1.26.0)\n",
      "Requirement already satisfied: pydeck<1,>=0.8 in /Users/pollipato/opt/anaconda3/envs/papita/lib/python3.9/site-packages (from streamlit) (0.8.0)\n",
      "Requirement already satisfied: pympler<2,>=0.9 in /Users/pollipato/opt/anaconda3/envs/papita/lib/python3.9/site-packages (from streamlit) (1.0.1)\n",
      "Requirement already satisfied: gitpython!=3.1.19,<4,>=3.0.7 in /Users/pollipato/opt/anaconda3/envs/papita/lib/python3.9/site-packages (from streamlit) (3.1.35)\n",
      "Requirement already satisfied: typing-extensions<5,>=4.1.0 in /Users/pollipato/opt/anaconda3/envs/papita/lib/python3.9/site-packages (from streamlit) (4.7.1)\n",
      "Requirement already satisfied: tornado<7,>=6.0.3 in /Users/pollipato/opt/anaconda3/envs/papita/lib/python3.9/site-packages (from streamlit) (6.1)\n",
      "Requirement already satisfied: numpy<2,>=1.19.3 in /Users/pollipato/opt/anaconda3/envs/papita/lib/python3.9/site-packages (from streamlit) (1.25.2)\n",
      "Requirement already satisfied: pandas<3,>=1.3.0 in /Users/pollipato/opt/anaconda3/envs/papita/lib/python3.9/site-packages (from streamlit) (2.1.0)\n",
      "Requirement already satisfied: python-dateutil<3,>=2.7.3 in /Users/pollipato/opt/anaconda3/envs/papita/lib/python3.9/site-packages (from streamlit) (2.8.2)\n",
      "Requirement already satisfied: protobuf<5,>=3.20 in /Users/pollipato/opt/anaconda3/envs/papita/lib/python3.9/site-packages (from streamlit) (4.24.3)\n",
      "Requirement already satisfied: tenacity<9,>=8.1.0 in /Users/pollipato/opt/anaconda3/envs/papita/lib/python3.9/site-packages (from streamlit) (8.2.3)\n",
      "Requirement already satisfied: blinker<2,>=1.0.0 in /Users/pollipato/opt/anaconda3/envs/papita/lib/python3.9/site-packages (from streamlit) (1.6.2)\n",
      "Requirement already satisfied: validators<1,>=0.2 in /Users/pollipato/opt/anaconda3/envs/papita/lib/python3.9/site-packages (from streamlit) (0.22.0)\n",
      "Requirement already satisfied: packaging<24,>=16.8 in /Users/pollipato/opt/anaconda3/envs/papita/lib/python3.9/site-packages (from streamlit) (23.1)\n",
      "Requirement already satisfied: altair<6,>=4.0 in /Users/pollipato/opt/anaconda3/envs/papita/lib/python3.9/site-packages (from streamlit) (5.1.1)\n",
      "Requirement already satisfied: rich<14,>=10.14.0 in /Users/pollipato/opt/anaconda3/envs/papita/lib/python3.9/site-packages (from streamlit) (13.5.2)\n",
      "Requirement already satisfied: cachetools<6,>=4.0 in /Users/pollipato/opt/anaconda3/envs/papita/lib/python3.9/site-packages (from streamlit) (4.2.2)\n",
      "Requirement already satisfied: importlib-metadata<7,>=1.4 in /Users/pollipato/opt/anaconda3/envs/papita/lib/python3.9/site-packages (from streamlit) (2.0.0)\n",
      "Requirement already satisfied: click<9,>=7.0 in /Users/pollipato/opt/anaconda3/envs/papita/lib/python3.9/site-packages (from streamlit) (7.1.2)\n",
      "Requirement already satisfied: pillow<10,>=7.1.0 in /Users/pollipato/opt/anaconda3/envs/papita/lib/python3.9/site-packages (from streamlit) (8.1.0)\n",
      "Requirement already satisfied: pyarrow>=6.0 in /Users/pollipato/opt/anaconda3/envs/papita/lib/python3.9/site-packages (from streamlit) (13.0.0)\n",
      "Requirement already satisfied: tzlocal<5,>=1.1 in /Users/pollipato/opt/anaconda3/envs/papita/lib/python3.9/site-packages (from streamlit) (4.3.1)\n",
      "Requirement already satisfied: toml<2,>=0.10.1 in /Users/pollipato/opt/anaconda3/envs/papita/lib/python3.9/site-packages (from streamlit) (0.10.2)\n",
      "Requirement already satisfied: requests<3,>=2.18 in /Users/pollipato/opt/anaconda3/envs/papita/lib/python3.9/site-packages (from streamlit) (2.25.1)\n",
      "Requirement already satisfied: jsonschema>=3.0 in /Users/pollipato/opt/anaconda3/envs/papita/lib/python3.9/site-packages (from altair<6,>=4.0->streamlit) (3.2.0)\n",
      "Requirement already satisfied: jinja2 in /Users/pollipato/opt/anaconda3/envs/papita/lib/python3.9/site-packages (from altair<6,>=4.0->streamlit) (3.0.1)\n",
      "Requirement already satisfied: toolz in /Users/pollipato/opt/anaconda3/envs/papita/lib/python3.9/site-packages (from altair<6,>=4.0->streamlit) (0.11.1)\n",
      "Requirement already satisfied: gitdb<5,>=4.0.1 in /Users/pollipato/opt/anaconda3/envs/papita/lib/python3.9/site-packages (from gitpython!=3.1.19,<4,>=3.0.7->streamlit) (4.0.10)\n",
      "Requirement already satisfied: smmap<6,>=3.0.1 in /Users/pollipato/opt/anaconda3/envs/papita/lib/python3.9/site-packages (from gitdb<5,>=4.0.1->gitpython!=3.1.19,<4,>=3.0.7->streamlit) (5.0.0)\n",
      "Requirement already satisfied: zipp>=0.5 in /Users/pollipato/opt/anaconda3/envs/papita/lib/python3.9/site-packages (from importlib-metadata<7,>=1.4->streamlit) (3.4.0)\n",
      "Requirement already satisfied: pyrsistent>=0.14.0 in /Users/pollipato/opt/anaconda3/envs/papita/lib/python3.9/site-packages (from jsonschema>=3.0->altair<6,>=4.0->streamlit) (0.17.3)\n",
      "Requirement already satisfied: attrs>=17.4.0 in /Users/pollipato/opt/anaconda3/envs/papita/lib/python3.9/site-packages (from jsonschema>=3.0->altair<6,>=4.0->streamlit) (20.3.0)\n",
      "Requirement already satisfied: six>=1.11.0 in /Users/pollipato/opt/anaconda3/envs/papita/lib/python3.9/site-packages (from jsonschema>=3.0->altair<6,>=4.0->streamlit) (1.15.0)\n",
      "Requirement already satisfied: setuptools in /Users/pollipato/opt/anaconda3/envs/papita/lib/python3.9/site-packages (from jsonschema>=3.0->altair<6,>=4.0->streamlit) (52.0.0.post20210125)\n",
      "Requirement already satisfied: pytz>=2020.1 in /Users/pollipato/opt/anaconda3/envs/papita/lib/python3.9/site-packages (from pandas<3,>=1.3.0->streamlit) (2020.5)\n",
      "Requirement already satisfied: tzdata>=2022.1 in /Users/pollipato/opt/anaconda3/envs/papita/lib/python3.9/site-packages (from pandas<3,>=1.3.0->streamlit) (2023.3)\n",
      "Requirement already satisfied: MarkupSafe>=2.0 in /Users/pollipato/opt/anaconda3/envs/papita/lib/python3.9/site-packages (from jinja2->altair<6,>=4.0->streamlit) (2.0.1)\n",
      "Requirement already satisfied: certifi>=2017.4.17 in /Users/pollipato/opt/anaconda3/envs/papita/lib/python3.9/site-packages (from requests<3,>=2.18->streamlit) (2021.10.8)\n",
      "Requirement already satisfied: urllib3<1.27,>=1.21.1 in /Users/pollipato/opt/anaconda3/envs/papita/lib/python3.9/site-packages (from requests<3,>=2.18->streamlit) (1.26.4)\n",
      "Requirement already satisfied: chardet<5,>=3.0.2 in /Users/pollipato/opt/anaconda3/envs/papita/lib/python3.9/site-packages (from requests<3,>=2.18->streamlit) (4.0.0)\n",
      "Requirement already satisfied: idna<3,>=2.5 in /Users/pollipato/opt/anaconda3/envs/papita/lib/python3.9/site-packages (from requests<3,>=2.18->streamlit) (2.10)\n",
      "Requirement already satisfied: pygments<3.0.0,>=2.13.0 in /Users/pollipato/opt/anaconda3/envs/papita/lib/python3.9/site-packages (from rich<14,>=10.14.0->streamlit) (2.16.1)\n",
      "Requirement already satisfied: markdown-it-py>=2.2.0 in /Users/pollipato/opt/anaconda3/envs/papita/lib/python3.9/site-packages (from rich<14,>=10.14.0->streamlit) (3.0.0)\n",
      "Requirement already satisfied: mdurl~=0.1 in /Users/pollipato/opt/anaconda3/envs/papita/lib/python3.9/site-packages (from markdown-it-py>=2.2.0->rich<14,>=10.14.0->streamlit) (0.1.2)\n",
      "Requirement already satisfied: pytz-deprecation-shim in /Users/pollipato/opt/anaconda3/envs/papita/lib/python3.9/site-packages (from tzlocal<5,>=1.1->streamlit) (0.1.0.post0)\n"
     ]
    }
   ],
   "source": [
    "!pip install streamlit"
   ]
  },
  {
   "cell_type": "code",
   "execution_count": 6,
   "id": "twenty-circular",
   "metadata": {
    "ExecuteTime": {
     "end_time": "2023-09-09T17:13:04.845102Z",
     "start_time": "2023-09-09T17:12:57.889935Z"
    }
   },
   "outputs": [
    {
     "name": "stdout",
     "output_type": "stream",
     "text": [
      "Collecting faiss-cpu\n",
      "  Downloading faiss_cpu-1.7.4-cp39-cp39-macosx_10_9_x86_64.whl (6.5 MB)\n",
      "\u001b[K     |████████████████████████████████| 6.5 MB 1.7 MB/s eta 0:00:01\n",
      "\u001b[?25hInstalling collected packages: faiss-cpu\n",
      "Successfully installed faiss-cpu-1.7.4\n"
     ]
    }
   ],
   "source": [
    "!pip install faiss-cpu"
   ]
  },
  {
   "cell_type": "code",
   "execution_count": null,
   "id": "specified-ocean",
   "metadata": {
    "ExecuteTime": {
     "end_time": "2023-09-09T17:15:12.351166Z",
     "start_time": "2023-09-09T17:14:46.029031Z"
    }
   },
   "outputs": [],
   "source": [
    "# Import required libraries\n",
    "import streamlit as st\n",
    "from dotenv import load_dotenv"
   ]
  },
  {
   "cell_type": "code",
   "execution_count": null,
   "id": "convertible-fisher",
   "metadata": {
    "ExecuteTime": {
     "end_time": "2023-09-09T17:18:35.655109Z",
     "start_time": "2023-09-09T17:18:32.476694Z"
    }
   },
   "outputs": [],
   "source": [
    "from PyPDF2 import PdfReader"
   ]
  },
  {
   "cell_type": "code",
   "execution_count": 13,
   "id": "bridal-differential",
   "metadata": {
    "ExecuteTime": {
     "end_time": "2023-09-09T17:21:07.485025Z",
     "start_time": "2023-09-09T17:21:03.622608Z"
    }
   },
   "outputs": [
    {
     "name": "stdout",
     "output_type": "stream",
     "text": [
      "Collecting typing_extensions==4.5.0\n",
      "  Downloading typing_extensions-4.5.0-py3-none-any.whl (27 kB)\n",
      "Collecting typing-inspect==0.8.0\n",
      "  Downloading typing_inspect-0.8.0-py3-none-any.whl (8.7 kB)\n",
      "Requirement already satisfied: mypy-extensions>=0.3.0 in /Users/pollipato/opt/anaconda3/envs/papita/lib/python3.9/site-packages (from typing-inspect==0.8.0) (1.0.0)\n",
      "Installing collected packages: typing-extensions, typing-inspect\n",
      "  Attempting uninstall: typing-extensions\n",
      "    Found existing installation: typing-extensions 4.7.1\n",
      "    Uninstalling typing-extensions-4.7.1:\n",
      "      Successfully uninstalled typing-extensions-4.7.1\n",
      "  Attempting uninstall: typing-inspect\n",
      "    Found existing installation: typing-inspect 0.9.0\n",
      "    Uninstalling typing-inspect-0.9.0:\n",
      "      Successfully uninstalled typing-inspect-0.9.0\n",
      "\u001b[31mERROR: pip's dependency resolver does not currently take into account all the packages that are installed. This behaviour is the source of the following dependency conflicts.\n",
      "tensorflow 2.5.0 requires numpy~=1.19.2, but you have numpy 1.25.2 which is incompatible.\n",
      "tensorflow 2.5.0 requires typing-extensions~=3.7.4, but you have typing-extensions 4.5.0 which is incompatible.\u001b[0m\n",
      "Successfully installed typing-extensions-4.5.0 typing-inspect-0.8.0\n",
      "Note: you may need to restart the kernel to use updated packages.\n"
     ]
    }
   ],
   "source": [
    "pip install typing-inspect==0.8.0 typing_extensions==4.5.0\n"
   ]
  },
  {
   "cell_type": "code",
   "execution_count": 15,
   "id": "theoretical-ceramic",
   "metadata": {
    "ExecuteTime": {
     "end_time": "2023-09-09T17:21:40.539293Z",
     "start_time": "2023-09-09T17:21:36.212495Z"
    }
   },
   "outputs": [
    {
     "name": "stdout",
     "output_type": "stream",
     "text": [
      "Collecting pydantic==1.10.11\n",
      "  Downloading pydantic-1.10.11-cp39-cp39-macosx_10_9_x86_64.whl (2.9 MB)\n",
      "\u001b[K     |████████████████████████████████| 2.9 MB 4.9 MB/s eta 0:00:01\n",
      "\u001b[?25hRequirement already satisfied: typing-extensions>=4.2.0 in /Users/pollipato/opt/anaconda3/envs/papita/lib/python3.9/site-packages (from pydantic==1.10.11) (4.7.1)\n",
      "Installing collected packages: pydantic\n",
      "  Attempting uninstall: pydantic\n",
      "    Found existing installation: pydantic 2.3.0\n",
      "    Uninstalling pydantic-2.3.0:\n",
      "      Successfully uninstalled pydantic-2.3.0\n",
      "Successfully installed pydantic-1.10.11\n",
      "Note: you may need to restart the kernel to use updated packages.\n"
     ]
    }
   ],
   "source": [
    "pip install pydantic==1.10.11"
   ]
  },
  {
   "cell_type": "code",
   "execution_count": 16,
   "id": "honey-africa",
   "metadata": {
    "ExecuteTime": {
     "end_time": "2023-09-09T17:21:47.302068Z",
     "start_time": "2023-09-09T17:21:47.199512Z"
    },
    "scrolled": false
   },
   "outputs": [
    {
     "ename": "TypeError",
     "evalue": "issubclass() arg 1 must be a class",
     "output_type": "error",
     "traceback": [
      "\u001b[0;31m---------------------------------------------------------------------------\u001b[0m",
      "\u001b[0;31mTypeError\u001b[0m                                 Traceback (most recent call last)",
      "\u001b[0;32m<ipython-input-16-2d525188f224>\u001b[0m in \u001b[0;36m<module>\u001b[0;34m\u001b[0m\n\u001b[1;32m      1\u001b[0m \u001b[0;32mfrom\u001b[0m \u001b[0mlangchain\u001b[0m\u001b[0;34m.\u001b[0m\u001b[0mtext_splitter\u001b[0m \u001b[0;32mimport\u001b[0m \u001b[0mCharacterTextSplitter\u001b[0m\u001b[0;34m\u001b[0m\u001b[0;34m\u001b[0m\u001b[0m\n\u001b[0;32m----> 2\u001b[0;31m \u001b[0;32mfrom\u001b[0m \u001b[0mlangchain\u001b[0m\u001b[0;34m.\u001b[0m\u001b[0membeddings\u001b[0m \u001b[0;32mimport\u001b[0m \u001b[0mOpenAIEmbeddings\u001b[0m\u001b[0;34m,\u001b[0m \u001b[0mHuggingFaceInstructEmbeddings\u001b[0m\u001b[0;34m\u001b[0m\u001b[0;34m\u001b[0m\u001b[0m\n\u001b[0m\u001b[1;32m      3\u001b[0m \u001b[0;32mfrom\u001b[0m \u001b[0mlangchain\u001b[0m\u001b[0;34m.\u001b[0m\u001b[0mvectorstores\u001b[0m \u001b[0;32mimport\u001b[0m \u001b[0mFAISS\u001b[0m\u001b[0;34m\u001b[0m\u001b[0;34m\u001b[0m\u001b[0m\n\u001b[1;32m      4\u001b[0m \u001b[0;32mfrom\u001b[0m \u001b[0mlangchain\u001b[0m\u001b[0;34m.\u001b[0m\u001b[0mchat_models\u001b[0m \u001b[0;32mimport\u001b[0m \u001b[0mChatOpenAI\u001b[0m\u001b[0;34m\u001b[0m\u001b[0;34m\u001b[0m\u001b[0m\n\u001b[1;32m      5\u001b[0m \u001b[0;32mfrom\u001b[0m \u001b[0mlangchain\u001b[0m\u001b[0;34m.\u001b[0m\u001b[0mmemory\u001b[0m \u001b[0;32mimport\u001b[0m \u001b[0mConversationBufferMemory\u001b[0m\u001b[0;34m\u001b[0m\u001b[0;34m\u001b[0m\u001b[0m\n",
      "\u001b[0;32m~/opt/anaconda3/envs/papita/lib/python3.9/site-packages/langchain/__init__.py\u001b[0m in \u001b[0;36m<module>\u001b[0;34m\u001b[0m\n\u001b[1;32m      4\u001b[0m \u001b[0;32mfrom\u001b[0m \u001b[0mtyping\u001b[0m \u001b[0;32mimport\u001b[0m \u001b[0mOptional\u001b[0m\u001b[0;34m\u001b[0m\u001b[0;34m\u001b[0m\u001b[0m\n\u001b[1;32m      5\u001b[0m \u001b[0;34m\u001b[0m\u001b[0m\n\u001b[0;32m----> 6\u001b[0;31m \u001b[0;32mfrom\u001b[0m \u001b[0mlangchain\u001b[0m\u001b[0;34m.\u001b[0m\u001b[0magents\u001b[0m \u001b[0;32mimport\u001b[0m \u001b[0mMRKLChain\u001b[0m\u001b[0;34m,\u001b[0m \u001b[0mReActChain\u001b[0m\u001b[0;34m,\u001b[0m \u001b[0mSelfAskWithSearchChain\u001b[0m\u001b[0;34m\u001b[0m\u001b[0;34m\u001b[0m\u001b[0m\n\u001b[0m\u001b[1;32m      7\u001b[0m from langchain.chains import (\n\u001b[1;32m      8\u001b[0m     \u001b[0mConversationChain\u001b[0m\u001b[0;34m,\u001b[0m\u001b[0;34m\u001b[0m\u001b[0;34m\u001b[0m\u001b[0m\n",
      "\u001b[0;32m~/opt/anaconda3/envs/papita/lib/python3.9/site-packages/langchain/agents/__init__.py\u001b[0m in \u001b[0;36m<module>\u001b[0;34m\u001b[0m\n\u001b[1;32m     29\u001b[0m \u001b[0;34m\u001b[0m\u001b[0m\n\u001b[1;32m     30\u001b[0m \"\"\"  # noqa: E501\n\u001b[0;32m---> 31\u001b[0;31m from langchain.agents.agent import (\n\u001b[0m\u001b[1;32m     32\u001b[0m     \u001b[0mAgent\u001b[0m\u001b[0;34m,\u001b[0m\u001b[0;34m\u001b[0m\u001b[0;34m\u001b[0m\u001b[0m\n\u001b[1;32m     33\u001b[0m     \u001b[0mAgentExecutor\u001b[0m\u001b[0;34m,\u001b[0m\u001b[0;34m\u001b[0m\u001b[0;34m\u001b[0m\u001b[0m\n",
      "\u001b[0;32m~/opt/anaconda3/envs/papita/lib/python3.9/site-packages/langchain/agents/agent.py\u001b[0m in \u001b[0;36m<module>\u001b[0;34m\u001b[0m\n\u001b[1;32m     12\u001b[0m \u001b[0;32mimport\u001b[0m \u001b[0myaml\u001b[0m\u001b[0;34m\u001b[0m\u001b[0;34m\u001b[0m\u001b[0m\n\u001b[1;32m     13\u001b[0m \u001b[0;34m\u001b[0m\u001b[0m\n\u001b[0;32m---> 14\u001b[0;31m \u001b[0;32mfrom\u001b[0m \u001b[0mlangchain\u001b[0m\u001b[0;34m.\u001b[0m\u001b[0magents\u001b[0m\u001b[0;34m.\u001b[0m\u001b[0magent_iterator\u001b[0m \u001b[0;32mimport\u001b[0m \u001b[0mAgentExecutorIterator\u001b[0m\u001b[0;34m\u001b[0m\u001b[0;34m\u001b[0m\u001b[0m\n\u001b[0m\u001b[1;32m     15\u001b[0m \u001b[0;32mfrom\u001b[0m \u001b[0mlangchain\u001b[0m\u001b[0;34m.\u001b[0m\u001b[0magents\u001b[0m\u001b[0;34m.\u001b[0m\u001b[0magent_types\u001b[0m \u001b[0;32mimport\u001b[0m \u001b[0mAgentType\u001b[0m\u001b[0;34m\u001b[0m\u001b[0;34m\u001b[0m\u001b[0m\n\u001b[1;32m     16\u001b[0m \u001b[0;32mfrom\u001b[0m \u001b[0mlangchain\u001b[0m\u001b[0;34m.\u001b[0m\u001b[0magents\u001b[0m\u001b[0;34m.\u001b[0m\u001b[0mtools\u001b[0m \u001b[0;32mimport\u001b[0m \u001b[0mInvalidTool\u001b[0m\u001b[0;34m\u001b[0m\u001b[0;34m\u001b[0m\u001b[0m\n",
      "\u001b[0;32m~/opt/anaconda3/envs/papita/lib/python3.9/site-packages/langchain/agents/agent_iterator.py\u001b[0m in \u001b[0;36m<module>\u001b[0;34m\u001b[0m\n\u001b[1;32m     28\u001b[0m \u001b[0;32mfrom\u001b[0m \u001b[0mlangchain\u001b[0m\u001b[0;34m.\u001b[0m\u001b[0mload\u001b[0m\u001b[0;34m.\u001b[0m\u001b[0mdump\u001b[0m \u001b[0;32mimport\u001b[0m \u001b[0mdumpd\u001b[0m\u001b[0;34m\u001b[0m\u001b[0;34m\u001b[0m\u001b[0m\n\u001b[1;32m     29\u001b[0m \u001b[0;32mfrom\u001b[0m \u001b[0mlangchain\u001b[0m\u001b[0;34m.\u001b[0m\u001b[0mschema\u001b[0m \u001b[0;32mimport\u001b[0m \u001b[0mRUN_KEY\u001b[0m\u001b[0;34m,\u001b[0m \u001b[0mAgentAction\u001b[0m\u001b[0;34m,\u001b[0m \u001b[0mAgentFinish\u001b[0m\u001b[0;34m,\u001b[0m \u001b[0mRunInfo\u001b[0m\u001b[0;34m\u001b[0m\u001b[0;34m\u001b[0m\u001b[0m\n\u001b[0;32m---> 30\u001b[0;31m \u001b[0;32mfrom\u001b[0m \u001b[0mlangchain\u001b[0m\u001b[0;34m.\u001b[0m\u001b[0mtools\u001b[0m \u001b[0;32mimport\u001b[0m \u001b[0mBaseTool\u001b[0m\u001b[0;34m\u001b[0m\u001b[0;34m\u001b[0m\u001b[0m\n\u001b[0m\u001b[1;32m     31\u001b[0m \u001b[0;32mfrom\u001b[0m \u001b[0mlangchain\u001b[0m\u001b[0;34m.\u001b[0m\u001b[0mutilities\u001b[0m\u001b[0;34m.\u001b[0m\u001b[0masyncio\u001b[0m \u001b[0;32mimport\u001b[0m \u001b[0masyncio_timeout\u001b[0m\u001b[0;34m\u001b[0m\u001b[0;34m\u001b[0m\u001b[0m\n\u001b[1;32m     32\u001b[0m \u001b[0;32mfrom\u001b[0m \u001b[0mlangchain\u001b[0m\u001b[0;34m.\u001b[0m\u001b[0mutils\u001b[0m\u001b[0;34m.\u001b[0m\u001b[0minput\u001b[0m \u001b[0;32mimport\u001b[0m \u001b[0mget_color_mapping\u001b[0m\u001b[0;34m\u001b[0m\u001b[0;34m\u001b[0m\u001b[0m\n",
      "\u001b[0;32m~/opt/anaconda3/envs/papita/lib/python3.9/site-packages/langchain/tools/__init__.py\u001b[0m in \u001b[0;36m<module>\u001b[0;34m\u001b[0m\n\u001b[1;32m     31\u001b[0m )\n\u001b[1;32m     32\u001b[0m \u001b[0;32mfrom\u001b[0m \u001b[0mlangchain\u001b[0m\u001b[0;34m.\u001b[0m\u001b[0mtools\u001b[0m\u001b[0;34m.\u001b[0m\u001b[0mbase\u001b[0m \u001b[0;32mimport\u001b[0m \u001b[0mBaseTool\u001b[0m\u001b[0;34m,\u001b[0m \u001b[0mStructuredTool\u001b[0m\u001b[0;34m,\u001b[0m \u001b[0mTool\u001b[0m\u001b[0;34m,\u001b[0m \u001b[0mtool\u001b[0m\u001b[0;34m\u001b[0m\u001b[0;34m\u001b[0m\u001b[0m\n\u001b[0;32m---> 33\u001b[0;31m \u001b[0;32mfrom\u001b[0m \u001b[0mlangchain\u001b[0m\u001b[0;34m.\u001b[0m\u001b[0mtools\u001b[0m\u001b[0;34m.\u001b[0m\u001b[0mbing_search\u001b[0m\u001b[0;34m.\u001b[0m\u001b[0mtool\u001b[0m \u001b[0;32mimport\u001b[0m \u001b[0mBingSearchResults\u001b[0m\u001b[0;34m,\u001b[0m \u001b[0mBingSearchRun\u001b[0m\u001b[0;34m\u001b[0m\u001b[0;34m\u001b[0m\u001b[0m\n\u001b[0m\u001b[1;32m     34\u001b[0m \u001b[0;32mfrom\u001b[0m \u001b[0mlangchain\u001b[0m\u001b[0;34m.\u001b[0m\u001b[0mtools\u001b[0m\u001b[0;34m.\u001b[0m\u001b[0mbrave_search\u001b[0m\u001b[0;34m.\u001b[0m\u001b[0mtool\u001b[0m \u001b[0;32mimport\u001b[0m \u001b[0mBraveSearch\u001b[0m\u001b[0;34m\u001b[0m\u001b[0;34m\u001b[0m\u001b[0m\n\u001b[1;32m     35\u001b[0m \u001b[0;32mfrom\u001b[0m \u001b[0mlangchain\u001b[0m\u001b[0;34m.\u001b[0m\u001b[0mtools\u001b[0m\u001b[0;34m.\u001b[0m\u001b[0mconvert_to_openai\u001b[0m \u001b[0;32mimport\u001b[0m \u001b[0mformat_tool_to_openai_function\u001b[0m\u001b[0;34m\u001b[0m\u001b[0;34m\u001b[0m\u001b[0m\n",
      "\u001b[0;32m~/opt/anaconda3/envs/papita/lib/python3.9/site-packages/langchain/tools/bing_search/__init__.py\u001b[0m in \u001b[0;36m<module>\u001b[0;34m\u001b[0m\n\u001b[1;32m      1\u001b[0m \u001b[0;34m\"\"\"Bing Search API toolkit.\"\"\"\u001b[0m\u001b[0;34m\u001b[0m\u001b[0;34m\u001b[0m\u001b[0m\n\u001b[1;32m      2\u001b[0m \u001b[0;34m\u001b[0m\u001b[0m\n\u001b[0;32m----> 3\u001b[0;31m \u001b[0;32mfrom\u001b[0m \u001b[0mlangchain\u001b[0m\u001b[0;34m.\u001b[0m\u001b[0mtools\u001b[0m\u001b[0;34m.\u001b[0m\u001b[0mbing_search\u001b[0m\u001b[0;34m.\u001b[0m\u001b[0mtool\u001b[0m \u001b[0;32mimport\u001b[0m \u001b[0mBingSearchResults\u001b[0m\u001b[0;34m,\u001b[0m \u001b[0mBingSearchRun\u001b[0m\u001b[0;34m\u001b[0m\u001b[0;34m\u001b[0m\u001b[0m\n\u001b[0m\u001b[1;32m      4\u001b[0m \u001b[0;34m\u001b[0m\u001b[0m\n\u001b[1;32m      5\u001b[0m \u001b[0m__all__\u001b[0m \u001b[0;34m=\u001b[0m \u001b[0;34m[\u001b[0m\u001b[0;34m\"BingSearchRun\"\u001b[0m\u001b[0;34m,\u001b[0m \u001b[0;34m\"BingSearchResults\"\u001b[0m\u001b[0;34m]\u001b[0m\u001b[0;34m\u001b[0m\u001b[0;34m\u001b[0m\u001b[0m\n",
      "\u001b[0;32m~/opt/anaconda3/envs/papita/lib/python3.9/site-packages/langchain/tools/bing_search/tool.py\u001b[0m in \u001b[0;36m<module>\u001b[0;34m\u001b[0m\n\u001b[1;32m      5\u001b[0m \u001b[0;32mfrom\u001b[0m \u001b[0mlangchain\u001b[0m\u001b[0;34m.\u001b[0m\u001b[0mcallbacks\u001b[0m\u001b[0;34m.\u001b[0m\u001b[0mmanager\u001b[0m \u001b[0;32mimport\u001b[0m \u001b[0mCallbackManagerForToolRun\u001b[0m\u001b[0;34m\u001b[0m\u001b[0;34m\u001b[0m\u001b[0m\n\u001b[1;32m      6\u001b[0m \u001b[0;32mfrom\u001b[0m \u001b[0mlangchain\u001b[0m\u001b[0;34m.\u001b[0m\u001b[0mtools\u001b[0m\u001b[0;34m.\u001b[0m\u001b[0mbase\u001b[0m \u001b[0;32mimport\u001b[0m \u001b[0mBaseTool\u001b[0m\u001b[0;34m\u001b[0m\u001b[0;34m\u001b[0m\u001b[0m\n\u001b[0;32m----> 7\u001b[0;31m \u001b[0;32mfrom\u001b[0m \u001b[0mlangchain\u001b[0m\u001b[0;34m.\u001b[0m\u001b[0mutilities\u001b[0m\u001b[0;34m.\u001b[0m\u001b[0mbing_search\u001b[0m \u001b[0;32mimport\u001b[0m \u001b[0mBingSearchAPIWrapper\u001b[0m\u001b[0;34m\u001b[0m\u001b[0;34m\u001b[0m\u001b[0m\n\u001b[0m\u001b[1;32m      8\u001b[0m \u001b[0;34m\u001b[0m\u001b[0m\n\u001b[1;32m      9\u001b[0m \u001b[0;34m\u001b[0m\u001b[0m\n",
      "\u001b[0;32m~/opt/anaconda3/envs/papita/lib/python3.9/site-packages/langchain/utilities/__init__.py\u001b[0m in \u001b[0;36m<module>\u001b[0;34m\u001b[0m\n\u001b[1;32m      5\u001b[0m \"\"\"\n\u001b[1;32m      6\u001b[0m \u001b[0;32mfrom\u001b[0m \u001b[0mlangchain\u001b[0m\u001b[0;34m.\u001b[0m\u001b[0mutilities\u001b[0m\u001b[0;34m.\u001b[0m\u001b[0malpha_vantage\u001b[0m \u001b[0;32mimport\u001b[0m \u001b[0mAlphaVantageAPIWrapper\u001b[0m\u001b[0;34m\u001b[0m\u001b[0;34m\u001b[0m\u001b[0m\n\u001b[0;32m----> 7\u001b[0;31m \u001b[0;32mfrom\u001b[0m \u001b[0mlangchain\u001b[0m\u001b[0;34m.\u001b[0m\u001b[0mutilities\u001b[0m\u001b[0;34m.\u001b[0m\u001b[0mapify\u001b[0m \u001b[0;32mimport\u001b[0m \u001b[0mApifyWrapper\u001b[0m\u001b[0;34m\u001b[0m\u001b[0;34m\u001b[0m\u001b[0m\n\u001b[0m\u001b[1;32m      8\u001b[0m \u001b[0;32mfrom\u001b[0m \u001b[0mlangchain\u001b[0m\u001b[0;34m.\u001b[0m\u001b[0mutilities\u001b[0m\u001b[0;34m.\u001b[0m\u001b[0marxiv\u001b[0m \u001b[0;32mimport\u001b[0m \u001b[0mArxivAPIWrapper\u001b[0m\u001b[0;34m\u001b[0m\u001b[0;34m\u001b[0m\u001b[0m\n\u001b[1;32m      9\u001b[0m \u001b[0;32mfrom\u001b[0m \u001b[0mlangchain\u001b[0m\u001b[0;34m.\u001b[0m\u001b[0mutilities\u001b[0m\u001b[0;34m.\u001b[0m\u001b[0mawslambda\u001b[0m \u001b[0;32mimport\u001b[0m \u001b[0mLambdaWrapper\u001b[0m\u001b[0;34m\u001b[0m\u001b[0;34m\u001b[0m\u001b[0m\n",
      "\u001b[0;32m~/opt/anaconda3/envs/papita/lib/python3.9/site-packages/langchain/utilities/apify.py\u001b[0m in \u001b[0;36m<module>\u001b[0;34m\u001b[0m\n\u001b[1;32m      1\u001b[0m \u001b[0;32mfrom\u001b[0m \u001b[0mtyping\u001b[0m \u001b[0;32mimport\u001b[0m \u001b[0mAny\u001b[0m\u001b[0;34m,\u001b[0m \u001b[0mCallable\u001b[0m\u001b[0;34m,\u001b[0m \u001b[0mDict\u001b[0m\u001b[0;34m,\u001b[0m \u001b[0mOptional\u001b[0m\u001b[0;34m\u001b[0m\u001b[0;34m\u001b[0m\u001b[0m\n\u001b[1;32m      2\u001b[0m \u001b[0;34m\u001b[0m\u001b[0m\n\u001b[0;32m----> 3\u001b[0;31m \u001b[0;32mfrom\u001b[0m \u001b[0mlangchain\u001b[0m\u001b[0;34m.\u001b[0m\u001b[0mdocument_loaders\u001b[0m \u001b[0;32mimport\u001b[0m \u001b[0mApifyDatasetLoader\u001b[0m\u001b[0;34m\u001b[0m\u001b[0;34m\u001b[0m\u001b[0m\n\u001b[0m\u001b[1;32m      4\u001b[0m \u001b[0;32mfrom\u001b[0m \u001b[0mlangchain\u001b[0m\u001b[0;34m.\u001b[0m\u001b[0mdocument_loaders\u001b[0m\u001b[0;34m.\u001b[0m\u001b[0mbase\u001b[0m \u001b[0;32mimport\u001b[0m \u001b[0mDocument\u001b[0m\u001b[0;34m\u001b[0m\u001b[0;34m\u001b[0m\u001b[0m\n\u001b[1;32m      5\u001b[0m \u001b[0;32mfrom\u001b[0m \u001b[0mlangchain\u001b[0m\u001b[0;34m.\u001b[0m\u001b[0mpydantic_v1\u001b[0m \u001b[0;32mimport\u001b[0m \u001b[0mBaseModel\u001b[0m\u001b[0;34m,\u001b[0m \u001b[0mroot_validator\u001b[0m\u001b[0;34m\u001b[0m\u001b[0;34m\u001b[0m\u001b[0m\n",
      "\u001b[0;32m~/opt/anaconda3/envs/papita/lib/python3.9/site-packages/langchain/document_loaders/__init__.py\u001b[0m in \u001b[0;36m<module>\u001b[0;34m\u001b[0m\n\u001b[1;32m     74\u001b[0m     \u001b[0mUnstructuredEmailLoader\u001b[0m\u001b[0;34m,\u001b[0m\u001b[0;34m\u001b[0m\u001b[0;34m\u001b[0m\u001b[0m\n\u001b[1;32m     75\u001b[0m )\n\u001b[0;32m---> 76\u001b[0;31m \u001b[0;32mfrom\u001b[0m \u001b[0mlangchain\u001b[0m\u001b[0;34m.\u001b[0m\u001b[0mdocument_loaders\u001b[0m\u001b[0;34m.\u001b[0m\u001b[0membaas\u001b[0m \u001b[0;32mimport\u001b[0m \u001b[0mEmbaasBlobLoader\u001b[0m\u001b[0;34m,\u001b[0m \u001b[0mEmbaasLoader\u001b[0m\u001b[0;34m\u001b[0m\u001b[0;34m\u001b[0m\u001b[0m\n\u001b[0m\u001b[1;32m     77\u001b[0m \u001b[0;32mfrom\u001b[0m \u001b[0mlangchain\u001b[0m\u001b[0;34m.\u001b[0m\u001b[0mdocument_loaders\u001b[0m\u001b[0;34m.\u001b[0m\u001b[0mepub\u001b[0m \u001b[0;32mimport\u001b[0m \u001b[0mUnstructuredEPubLoader\u001b[0m\u001b[0;34m\u001b[0m\u001b[0;34m\u001b[0m\u001b[0m\n\u001b[1;32m     78\u001b[0m \u001b[0;32mfrom\u001b[0m \u001b[0mlangchain\u001b[0m\u001b[0;34m.\u001b[0m\u001b[0mdocument_loaders\u001b[0m\u001b[0;34m.\u001b[0m\u001b[0metherscan\u001b[0m \u001b[0;32mimport\u001b[0m \u001b[0mEtherscanLoader\u001b[0m\u001b[0;34m\u001b[0m\u001b[0;34m\u001b[0m\u001b[0m\n",
      "\u001b[0;32m~/opt/anaconda3/envs/papita/lib/python3.9/site-packages/langchain/document_loaders/embaas.py\u001b[0m in \u001b[0;36m<module>\u001b[0;34m\u001b[0m\n\u001b[1;32m     52\u001b[0m \u001b[0;34m\u001b[0m\u001b[0m\n\u001b[1;32m     53\u001b[0m \u001b[0;34m\u001b[0m\u001b[0m\n\u001b[0;32m---> 54\u001b[0;31m \u001b[0;32mclass\u001b[0m \u001b[0mBaseEmbaasLoader\u001b[0m\u001b[0;34m(\u001b[0m\u001b[0mBaseModel\u001b[0m\u001b[0;34m)\u001b[0m\u001b[0;34m:\u001b[0m\u001b[0;34m\u001b[0m\u001b[0;34m\u001b[0m\u001b[0m\n\u001b[0m\u001b[1;32m     55\u001b[0m     \u001b[0;34m\"\"\"Base loader for `Embaas` document extraction API.\"\"\"\u001b[0m\u001b[0;34m\u001b[0m\u001b[0;34m\u001b[0m\u001b[0m\n\u001b[1;32m     56\u001b[0m \u001b[0;34m\u001b[0m\u001b[0m\n",
      "\u001b[0;32m~/opt/anaconda3/envs/papita/lib/python3.9/site-packages/pydantic/main.cpython-39-darwin.so\u001b[0m in \u001b[0;36mpydantic.main.ModelMetaclass.__new__\u001b[0;34m()\u001b[0m\n",
      "\u001b[0;32m~/opt/anaconda3/envs/papita/lib/python3.9/site-packages/pydantic/fields.cpython-39-darwin.so\u001b[0m in \u001b[0;36mpydantic.fields.ModelField.infer\u001b[0;34m()\u001b[0m\n",
      "\u001b[0;32m~/opt/anaconda3/envs/papita/lib/python3.9/site-packages/pydantic/fields.cpython-39-darwin.so\u001b[0m in \u001b[0;36mpydantic.fields.ModelField.__init__\u001b[0;34m()\u001b[0m\n",
      "\u001b[0;32m~/opt/anaconda3/envs/papita/lib/python3.9/site-packages/pydantic/fields.cpython-39-darwin.so\u001b[0m in \u001b[0;36mpydantic.fields.ModelField.prepare\u001b[0;34m()\u001b[0m\n",
      "\u001b[0;32m~/opt/anaconda3/envs/papita/lib/python3.9/site-packages/pydantic/fields.cpython-39-darwin.so\u001b[0m in \u001b[0;36mpydantic.fields.ModelField.populate_validators\u001b[0;34m()\u001b[0m\n",
      "\u001b[0;32m~/opt/anaconda3/envs/papita/lib/python3.9/site-packages/pydantic/validators.cpython-39-darwin.so\u001b[0m in \u001b[0;36mfind_validators\u001b[0;34m()\u001b[0m\n",
      "\u001b[0;32m~/opt/anaconda3/envs/papita/lib/python3.9/site-packages/pydantic/validators.cpython-39-darwin.so\u001b[0m in \u001b[0;36mpydantic.validators.make_typeddict_validator\u001b[0;34m()\u001b[0m\n",
      "\u001b[0;32m~/opt/anaconda3/envs/papita/lib/python3.9/site-packages/pydantic/annotated_types.cpython-39-darwin.so\u001b[0m in \u001b[0;36mpydantic.annotated_types.create_model_from_typeddict\u001b[0;34m()\u001b[0m\n",
      "\u001b[0;32m~/opt/anaconda3/envs/papita/lib/python3.9/site-packages/pydantic/main.cpython-39-darwin.so\u001b[0m in \u001b[0;36mpydantic.main.create_model\u001b[0;34m()\u001b[0m\n",
      "\u001b[0;32m~/opt/anaconda3/envs/papita/lib/python3.9/site-packages/pydantic/main.cpython-39-darwin.so\u001b[0m in \u001b[0;36mpydantic.main.ModelMetaclass.__new__\u001b[0;34m()\u001b[0m\n",
      "\u001b[0;32m~/opt/anaconda3/envs/papita/lib/python3.9/site-packages/pydantic/fields.cpython-39-darwin.so\u001b[0m in \u001b[0;36mpydantic.fields.ModelField.infer\u001b[0;34m()\u001b[0m\n",
      "\u001b[0;32m~/opt/anaconda3/envs/papita/lib/python3.9/site-packages/pydantic/fields.cpython-39-darwin.so\u001b[0m in \u001b[0;36mpydantic.fields.ModelField.__init__\u001b[0;34m()\u001b[0m\n",
      "\u001b[0;32m~/opt/anaconda3/envs/papita/lib/python3.9/site-packages/pydantic/fields.cpython-39-darwin.so\u001b[0m in \u001b[0;36mpydantic.fields.ModelField.prepare\u001b[0;34m()\u001b[0m\n",
      "\u001b[0;32m~/opt/anaconda3/envs/papita/lib/python3.9/site-packages/pydantic/fields.cpython-39-darwin.so\u001b[0m in \u001b[0;36mpydantic.fields.ModelField._type_analysis\u001b[0;34m()\u001b[0m\n",
      "\u001b[0;32m~/opt/anaconda3/envs/papita/lib/python3.9/typing.py\u001b[0m in \u001b[0;36m__subclasscheck__\u001b[0;34m(self, cls)\u001b[0m\n\u001b[1;32m    827\u001b[0m             \u001b[0;32mreturn\u001b[0m \u001b[0missubclass\u001b[0m\u001b[0;34m(\u001b[0m\u001b[0mcls\u001b[0m\u001b[0;34m.\u001b[0m\u001b[0m__origin__\u001b[0m\u001b[0;34m,\u001b[0m \u001b[0mself\u001b[0m\u001b[0;34m.\u001b[0m\u001b[0m__origin__\u001b[0m\u001b[0;34m)\u001b[0m\u001b[0;34m\u001b[0m\u001b[0;34m\u001b[0m\u001b[0m\n\u001b[1;32m    828\u001b[0m         \u001b[0;32mif\u001b[0m \u001b[0;32mnot\u001b[0m \u001b[0misinstance\u001b[0m\u001b[0;34m(\u001b[0m\u001b[0mcls\u001b[0m\u001b[0;34m,\u001b[0m \u001b[0m_GenericAlias\u001b[0m\u001b[0;34m)\u001b[0m\u001b[0;34m:\u001b[0m\u001b[0;34m\u001b[0m\u001b[0;34m\u001b[0m\u001b[0m\n\u001b[0;32m--> 829\u001b[0;31m             \u001b[0;32mreturn\u001b[0m \u001b[0missubclass\u001b[0m\u001b[0;34m(\u001b[0m\u001b[0mcls\u001b[0m\u001b[0;34m,\u001b[0m \u001b[0mself\u001b[0m\u001b[0;34m.\u001b[0m\u001b[0m__origin__\u001b[0m\u001b[0;34m)\u001b[0m\u001b[0;34m\u001b[0m\u001b[0;34m\u001b[0m\u001b[0m\n\u001b[0m\u001b[1;32m    830\u001b[0m         \u001b[0;32mreturn\u001b[0m \u001b[0msuper\u001b[0m\u001b[0;34m(\u001b[0m\u001b[0;34m)\u001b[0m\u001b[0;34m.\u001b[0m\u001b[0m__subclasscheck__\u001b[0m\u001b[0;34m(\u001b[0m\u001b[0mcls\u001b[0m\u001b[0;34m)\u001b[0m\u001b[0;34m\u001b[0m\u001b[0;34m\u001b[0m\u001b[0m\n\u001b[1;32m    831\u001b[0m \u001b[0;34m\u001b[0m\u001b[0m\n",
      "\u001b[0;31mTypeError\u001b[0m: issubclass() arg 1 must be a class"
     ]
    }
   ],
   "source": [
    "from langchain.text_splitter import CharacterTextSplitter\n",
    "from langchain.embeddings import OpenAIEmbeddings, HuggingFaceInstructEmbeddings\n",
    "from langchain.vectorstores import FAISS\n",
    "from langchain.chat_models import ChatOpenAI\n",
    "from langchain.memory import ConversationBufferMemory\n",
    "from langchain.chains import ConversationalRetrievalChain\n",
    "from htmlTemplates import css, bot_template, user_template\n",
    "from langchain.llms import HuggingFaceHub\n",
    "from langchain.llms import OpenAI\n",
    "from langchain.chains.summarize import load_summarize_chain"
   ]
  },
  {
   "cell_type": "code",
   "execution_count": 11,
   "id": "ordinary-stock",
   "metadata": {
    "ExecuteTime": {
     "end_time": "2023-09-09T17:17:39.269086Z",
     "start_time": "2023-09-09T17:17:28.888213Z"
    }
   },
   "outputs": [
    {
     "name": "stdout",
     "output_type": "stream",
     "text": [
      "Collecting langchain\n",
      "  Downloading langchain-0.0.285-py3-none-any.whl (1.7 MB)\n",
      "\u001b[K     |████████████████████████████████| 1.7 MB 1.1 MB/s eta 0:00:01\n",
      "\u001b[?25hRequirement already satisfied: SQLAlchemy<3,>=1.4 in /Users/pollipato/opt/anaconda3/envs/papita/lib/python3.9/site-packages (from langchain) (1.4.15)\n",
      "Requirement already satisfied: PyYAML>=5.3 in /Users/pollipato/opt/anaconda3/envs/papita/lib/python3.9/site-packages (from langchain) (5.4.1)\n",
      "Requirement already satisfied: numpy<2,>=1 in /Users/pollipato/opt/anaconda3/envs/papita/lib/python3.9/site-packages (from langchain) (1.25.2)\n",
      "Requirement already satisfied: requests<3,>=2 in /Users/pollipato/opt/anaconda3/envs/papita/lib/python3.9/site-packages (from langchain) (2.25.1)\n",
      "Requirement already satisfied: pydantic<3,>=1 in /Users/pollipato/opt/anaconda3/envs/papita/lib/python3.9/site-packages (from langchain) (1.9.0)\n",
      "Requirement already satisfied: tenacity<9.0.0,>=8.1.0 in /Users/pollipato/opt/anaconda3/envs/papita/lib/python3.9/site-packages (from langchain) (8.2.3)\n",
      "Collecting aiohttp<4.0.0,>=3.8.3\n",
      "  Downloading aiohttp-3.8.5-cp39-cp39-macosx_10_9_x86_64.whl (368 kB)\n",
      "\u001b[K     |████████████████████████████████| 368 kB 1.6 MB/s eta 0:00:01\n",
      "\u001b[?25hRequirement already satisfied: attrs>=17.3.0 in /Users/pollipato/opt/anaconda3/envs/papita/lib/python3.9/site-packages (from aiohttp<4.0.0,>=3.8.3->langchain) (20.3.0)\n",
      "Collecting aiosignal>=1.1.2\n",
      "  Downloading aiosignal-1.3.1-py3-none-any.whl (7.6 kB)\n",
      "Collecting async-timeout<5.0.0,>=4.0.0\n",
      "  Downloading async_timeout-4.0.3-py3-none-any.whl (5.7 kB)\n",
      "Collecting charset-normalizer<4.0,>=2.0\n",
      "  Downloading charset_normalizer-3.2.0-cp39-cp39-macosx_10_9_x86_64.whl (126 kB)\n",
      "\u001b[K     |████████████████████████████████| 126 kB 1.9 MB/s eta 0:00:01\n",
      "\u001b[?25hCollecting dataclasses-json<0.6.0,>=0.5.7\n",
      "  Downloading dataclasses_json-0.5.14-py3-none-any.whl (26 kB)\n",
      "Collecting frozenlist>=1.1.1\n",
      "  Downloading frozenlist-1.4.0-cp39-cp39-macosx_10_9_x86_64.whl (47 kB)\n",
      "\u001b[K     |████████████████████████████████| 47 kB 1.4 MB/s eta 0:00:01\n",
      "\u001b[?25hCollecting langsmith<0.1.0,>=0.0.21\n",
      "  Downloading langsmith-0.0.35-py3-none-any.whl (37 kB)\n",
      "Collecting marshmallow<4.0.0,>=3.18.0\n",
      "  Downloading marshmallow-3.20.1-py3-none-any.whl (49 kB)\n",
      "\u001b[K     |████████████████████████████████| 49 kB 2.3 MB/s eta 0:00:01\n",
      "\u001b[?25hRequirement already satisfied: packaging>=17.0 in /Users/pollipato/opt/anaconda3/envs/papita/lib/python3.9/site-packages (from marshmallow<4.0.0,>=3.18.0->dataclasses-json<0.6.0,>=0.5.7->langchain) (23.1)\n",
      "Collecting multidict<7.0,>=4.5\n",
      "  Downloading multidict-6.0.4-cp39-cp39-macosx_10_9_x86_64.whl (29 kB)\n",
      "Collecting numexpr<3.0.0,>=2.8.4\n",
      "  Downloading numexpr-2.8.5-cp39-cp39-macosx_10_9_x86_64.whl (101 kB)\n",
      "\u001b[K     |████████████████████████████████| 101 kB 2.1 MB/s ta 0:00:01\n",
      "\u001b[?25hRequirement already satisfied: typing-extensions>=3.7.4.3 in /Users/pollipato/opt/anaconda3/envs/papita/lib/python3.9/site-packages (from pydantic<3,>=1->langchain) (4.7.1)\n",
      "Requirement already satisfied: urllib3<1.27,>=1.21.1 in /Users/pollipato/opt/anaconda3/envs/papita/lib/python3.9/site-packages (from requests<3,>=2->langchain) (1.26.4)\n",
      "Requirement already satisfied: certifi>=2017.4.17 in /Users/pollipato/opt/anaconda3/envs/papita/lib/python3.9/site-packages (from requests<3,>=2->langchain) (2021.10.8)\n",
      "Requirement already satisfied: idna<3,>=2.5 in /Users/pollipato/opt/anaconda3/envs/papita/lib/python3.9/site-packages (from requests<3,>=2->langchain) (2.10)\n",
      "Requirement already satisfied: chardet<5,>=3.0.2 in /Users/pollipato/opt/anaconda3/envs/papita/lib/python3.9/site-packages (from requests<3,>=2->langchain) (4.0.0)\n",
      "Requirement already satisfied: greenlet!=0.4.17 in /Users/pollipato/opt/anaconda3/envs/papita/lib/python3.9/site-packages (from SQLAlchemy<3,>=1.4->langchain) (1.1.0)\n",
      "Collecting typing-inspect<1,>=0.4.0\n",
      "  Downloading typing_inspect-0.9.0-py3-none-any.whl (8.8 kB)\n",
      "Collecting mypy-extensions>=0.3.0\n",
      "  Downloading mypy_extensions-1.0.0-py3-none-any.whl (4.7 kB)\n",
      "Collecting yarl<2.0,>=1.0\n",
      "  Downloading yarl-1.9.2-cp39-cp39-macosx_10_9_x86_64.whl (65 kB)\n",
      "\u001b[K     |████████████████████████████████| 65 kB 2.0 MB/s eta 0:00:01\n",
      "\u001b[?25hInstalling collected packages: mypy-extensions, multidict, frozenlist, yarl, typing-inspect, marshmallow, charset-normalizer, async-timeout, aiosignal, numexpr, langsmith, dataclasses-json, aiohttp, langchain\n",
      "Successfully installed aiohttp-3.8.5 aiosignal-1.3.1 async-timeout-4.0.3 charset-normalizer-3.2.0 dataclasses-json-0.5.14 frozenlist-1.4.0 langchain-0.0.285 langsmith-0.0.35 marshmallow-3.20.1 multidict-6.0.4 mypy-extensions-1.0.0 numexpr-2.8.5 typing-inspect-0.9.0 yarl-1.9.2\n"
     ]
    }
   ],
   "source": [
    "!pip install langchain"
   ]
  },
  {
   "cell_type": "code",
   "execution_count": null,
   "id": "early-sympathy",
   "metadata": {},
   "outputs": [],
   "source": []
  },
  {
   "cell_type": "code",
   "execution_count": null,
   "id": "timely-cornwall",
   "metadata": {},
   "outputs": [],
   "source": []
  },
  {
   "cell_type": "code",
   "execution_count": null,
   "id": "changed-handle",
   "metadata": {},
   "outputs": [],
   "source": [
    "def get_pdf_text(pdf_docs):\n",
    "    text = \"\"\n",
    "    for pdf in pdf_docs:\n",
    "        pdf_reader = PdfReader(pdf)\n",
    "        for page in pdf_reader.pages:\n",
    "            text += page.extract_text()\n",
    "    return text"
   ]
  },
  {
   "cell_type": "code",
   "execution_count": null,
   "id": "architectural-peripheral",
   "metadata": {},
   "outputs": [],
   "source": []
  },
  {
   "cell_type": "code",
   "execution_count": null,
   "id": "absolute-beast",
   "metadata": {},
   "outputs": [],
   "source": []
  },
  {
   "cell_type": "code",
   "execution_count": null,
   "id": "coral-exhaust",
   "metadata": {},
   "outputs": [],
   "source": []
  },
  {
   "cell_type": "code",
   "execution_count": null,
   "id": "guilty-canvas",
   "metadata": {},
   "outputs": [],
   "source": []
  },
  {
   "cell_type": "code",
   "execution_count": null,
   "id": "worst-therapy",
   "metadata": {},
   "outputs": [],
   "source": []
  },
  {
   "cell_type": "code",
   "execution_count": null,
   "id": "roman-conjunction",
   "metadata": {},
   "outputs": [],
   "source": []
  },
  {
   "cell_type": "code",
   "execution_count": null,
   "id": "environmental-button",
   "metadata": {},
   "outputs": [],
   "source": []
  },
  {
   "cell_type": "code",
   "execution_count": null,
   "id": "meaning-edgar",
   "metadata": {},
   "outputs": [],
   "source": []
  }
 ],
 "metadata": {
  "kernelspec": {
   "display_name": "Python 3",
   "language": "python",
   "name": "python3"
  },
  "language_info": {
   "codemirror_mode": {
    "name": "ipython",
    "version": 3
   },
   "file_extension": ".py",
   "mimetype": "text/x-python",
   "name": "python",
   "nbconvert_exporter": "python",
   "pygments_lexer": "ipython3",
   "version": "3.9.1"
  },
  "toc": {
   "base_numbering": 1,
   "nav_menu": {},
   "number_sections": true,
   "sideBar": true,
   "skip_h1_title": false,
   "title_cell": "Table of Contents",
   "title_sidebar": "Contents",
   "toc_cell": false,
   "toc_position": {},
   "toc_section_display": true,
   "toc_window_display": false
  }
 },
 "nbformat": 4,
 "nbformat_minor": 5
}
